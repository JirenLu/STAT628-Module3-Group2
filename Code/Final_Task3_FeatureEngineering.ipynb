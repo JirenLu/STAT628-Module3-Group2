{
 "cells": [
  {
   "cell_type": "code",
   "execution_count": 23,
   "metadata": {},
   "outputs": [],
   "source": [
    "import pandas as pd\n",
    "from scipy.stats import ttest_ind\n",
    "from sklearn.model_selection import GridSearchCV"
   ]
  },
  {
   "cell_type": "code",
   "execution_count": null,
   "metadata": {},
   "outputs": [
    {
     "name": "stderr",
     "output_type": "stream",
     "text": [
      "C:\\Users\\Kevin\\AppData\\Local\\Temp\\ipykernel_36572\\2465885457.py:8: DtypeWarning: Columns (6,9,10,11,14,15) have mixed types. Specify dtype option on import or set low_memory=False.\n",
      "  dataframes = [pd.read_csv(file, parse_dates=['CRSDepTime_timezone', 'CRSArrTime_timezone']) for file in file_paths]\n"
     ]
    },
    {
     "name": "stdout",
     "output_type": "stream",
     "text": [
      "(8647592, 36)\n",
      "  IATA_Code_Operating_Airline        CRSDepTime_timezone  \\\n",
      "0                          EV  2018-01-14 18:35:00-05:00   \n",
      "1                          EV  2018-01-15 18:45:00-05:00   \n",
      "2                          EV  2018-01-16 18:35:00-05:00   \n",
      "3                          EV  2018-01-17 18:35:00-05:00   \n",
      "4                          EV  2018-01-18 18:45:00-05:00   \n",
      "\n",
      "         CRSArrTime_timezone Origin Dest  DayOfWeek CancellationCode  \\\n",
      "0  2018-01-14 20:58:00-05:00    EWR  CHS          7              NaN   \n",
      "1  2018-01-15 21:08:00-05:00    EWR  CHS          1              NaN   \n",
      "2  2018-01-16 20:58:00-05:00    EWR  CHS          2              NaN   \n",
      "3  2018-01-17 20:58:00-05:00    EWR  CHS          3              NaN   \n",
      "4  2018-01-18 21:08:00-05:00    EWR  CHS          4              NaN   \n",
      "\n",
      "   FlightDate  ArrDelay CRSDepTime_Origin_HourlyVisibility  ...  \\\n",
      "0  2018-01-14       5.0                             16.093  ...   \n",
      "1  2018-01-15      41.0                             16.093  ...   \n",
      "2  2018-01-16      69.0                             16.093  ...   \n",
      "3  2018-01-17      -4.0                             16.093  ...   \n",
      "4  2018-01-18     -10.0                             16.093  ...   \n",
      "\n",
      "  CRSDepTime_Origin_HourlySkyConditions_SCT04  \\\n",
      "0                                         0.0   \n",
      "1                                         1.0   \n",
      "2                                         1.0   \n",
      "3                                         1.0   \n",
      "4                                         0.0   \n",
      "\n",
      "  CRSArrTime_Dest_HourlySkyConditions_SCT04  \\\n",
      "0                                       0.0   \n",
      "1                                       0.0   \n",
      "2                                       1.0   \n",
      "3                                       1.0   \n",
      "4                                       0.0   \n",
      "\n",
      "   CRSDepTime_Origin_HourlySkyConditions_SCT03  \\\n",
      "0                                          0.0   \n",
      "1                                          0.0   \n",
      "2                                          0.0   \n",
      "3                                          0.0   \n",
      "4                                          0.0   \n",
      "\n",
      "   CRSArrTime_Dest_HourlySkyConditions_SCT03  \\\n",
      "0                                        0.0   \n",
      "1                                        0.0   \n",
      "2                                        0.0   \n",
      "3                                        0.0   \n",
      "4                                        0.0   \n",
      "\n",
      "  CRSDepTime_Origin_HourlySkyConditions_FEW02  \\\n",
      "0                                         1.0   \n",
      "1                                         1.0   \n",
      "2                                         1.0   \n",
      "3                                         1.0   \n",
      "4                                         0.0   \n",
      "\n",
      "  CRSArrTime_Dest_HourlySkyConditions_FEW02  \\\n",
      "0                                       0.0   \n",
      "1                                       0.0   \n",
      "2                                       0.0   \n",
      "3                                       0.0   \n",
      "4                                       0.0   \n",
      "\n",
      "   CRSDepTime_Origin_HourlySkyConditions_FEW01  \\\n",
      "0                                          0.0   \n",
      "1                                          0.0   \n",
      "2                                          0.0   \n",
      "3                                          0.0   \n",
      "4                                          0.0   \n",
      "\n",
      "   CRSArrTime_Dest_HourlySkyConditions_FEW01  \\\n",
      "0                                        0.0   \n",
      "1                                        0.0   \n",
      "2                                        0.0   \n",
      "3                                        0.0   \n",
      "4                                        0.0   \n",
      "\n",
      "   CRSDepTime_Origin_HourlySkyConditions_CLR00  \\\n",
      "0                                          0.0   \n",
      "1                                          0.0   \n",
      "2                                          0.0   \n",
      "3                                          0.0   \n",
      "4                                          1.0   \n",
      "\n",
      "   CRSArrTime_Dest_HourlySkyConditions_CLR00  \n",
      "0                                        1.0  \n",
      "1                                        1.0  \n",
      "2                                        0.0  \n",
      "3                                        0.0  \n",
      "4                                        1.0  \n",
      "\n",
      "[5 rows x 36 columns]\n"
     ]
    }
   ],
   "source": [
    "import pandas as pd\n",
    "import glob\n",
    "\n",
    "file_paths = glob.glob(\"D:\\STAT628-Module3-Group2-main\\Climatological-Data\\Combined_file.csv\")\n",
    "\n",
    "\n",
    "dataframes = [pd.read_csv(file, parse_dates=['CRSDepTime_timezone', 'CRSArrTime_timezone']) for file in file_paths]\n",
    "\n",
    "\n",
    "data = pd.concat(dataframes, ignore_index=True)\n",
    "\n",
    "\n",
    "print(data.shape)\n",
    "print(data.head())\n"
   ]
  },
  {
   "cell_type": "code",
   "execution_count": 7,
   "metadata": {},
   "outputs": [
    {
     "data": {
      "text/plain": [
       "'\\nimport pandas as pd\\nimport glob\\nimport os\\n\\n# Define the columns you want to keep for memory efficiency\\ncolumns_to_keep = [\\'IATA_Code_Operating_Airline\\', \\'CRSDepTime_timezone\\', \\'CRSArrTime_timezone\\', \\'Origin\\', \\'Dest\\', \\n    \\'DayOfWeek\\', \\'CancellationCode\\',\\'FlightDate\\',\\'ArrDelay\\',\\n               \\'CRSDepTime_Origin_HourlyVisibility\\',\\'CRSDepTime_Dest_HourlyVisibility\\',\\'CRSArrTime_Dest_HourlyVisibility\\',\\n                \\'CRSDepTime_Origin_HourlyDryBulbTemperature\\',\\'CRSArrTime_Dest_HourlyDryBulbTemperature\\',\\n                \\'CRSDepTime_Origin_HourlyWindSpeed\\',\\'CRSArrTime_Dest_HourlyWindSpeed\\',\\n               \\'CRSDepTime_Origin_HourlyRelativeHumidity\\',\\'CRSArrTime_Dest_HourlyRelativeHumidity\\',\\n    \\n                \\'CRSDepTime_Origin_HourlySkyConditions_OVC08\\',\\'CRSArrTime_Dest_HourlySkyConditions_OVC08\\',\\n                \\'CRSDepTime_Origin_HourlySkyConditions_BKN07\\',\\'CRSArrTime_Dest_HourlySkyConditions_BKN07\\',\\n                \\'CRSDepTime_Origin_HourlySkyConditions_BKN06\\',\\'CRSArrTime_Dest_HourlySkyConditions_BKN06\\',\\n                \\'CRSDepTime_Origin_HourlySkyConditions_BKN05\\',\\'CRSArrTime_Dest_HourlySkyConditions_BKN05\\',\\n                \\'CRSDepTime_Origin_HourlySkyConditions_SCT04\\',\\'CRSArrTime_Dest_HourlySkyConditions_SCT04\\',\\n                \\'CRSDepTime_Origin_HourlySkyConditions_SCT03\\',\\'CRSArrTime_Dest_HourlySkyConditions_SCT03\\',\\n                \\'CRSDepTime_Origin_HourlySkyConditions_FEW02\\',\\'CRSArrTime_Dest_HourlySkyConditions_FEW02\\',\\n                \\'CRSDepTime_Origin_HourlySkyConditions_FEW01\\',\\'CRSArrTime_Dest_HourlySkyConditions_FEW01\\',\\n                \\'CRSDepTime_Origin_HourlySkyConditions_CLR00\\',\\'CRSArrTime_Dest_HourlySkyConditions_CLR00\\',\\n]\\n\\n# Define the output file name\\noutput_file = \\'D:\\\\STAT628-Module3-Group2-main\\\\Climatological-Data\\\\Combined_file.csv\\'\\n\\n# Initialize an output file\\nwith open(output_file, \\'w\\') as f_out:\\n    # Initialize the header_written flag\\n    header_written = False\\n    \\n    # Find all CSV files in the current directory and sort them by filename\\n    csv_files = sorted(glob.glob(\"D:\\\\STAT628-Module3-Group2-main\\\\Climatological-Data\\\\Flight-Data-Merged-18/*-*.csv\"))  # Sort ensures processing in alphabetical order\\n    for file in csv_files:\\n        # Skip the output file if it’s in the same folder\\n        if file.endswith(output_file):\\n            print(f\"Skipping output file: {file}\")\\n            continue\\n        \\n        print(f\"Processing file: {file}\")  # Print the name of the file being processed\\n        try:\\n            # Check if the file is empty or corrupt\\n            if os.stat(file).st_size == 0:\\n                print(f\"Skipping empty file {file}\")\\n                continue\\n            \\n            # Read each file in chunks to manage memory and specify dtype to handle mixed data types\\n            for chunk in pd.read_csv(file, usecols=columns_to_keep, chunksize=600000, low_memory=False, \\n                                     dtype={\\'IATA_Code_Operating_Airline\\': str, \\'Origin\\': str, \\'Dest\\': str}):\\n                \\n                # Check for missing columns before processing\\n                missing_columns = set([\\'CRSDepTime_timezone\\', \\'CRSArrTime_timezone\\']) - set(chunk.columns)\\n                if not missing_columns:\\n                    # Convert time columns to datetime format for calculations (if needed)\\n                    chunk[\\'CRSDepTime_timezone\\'] = pd.to_datetime(chunk[\\'CRSDepTime_timezone\\'], errors=\\'coerce\\')\\n                    chunk[\\'CRSArrTime_timezone\\'] = pd.to_datetime(chunk[\\'CRSArrTime_timezone\\'], errors=\\'coerce\\')\\n                    \\n                    # Define the correct column order based on columns_to_keep\\n                    column_order = [\\'IATA_Code_Operating_Airline\\', \\'CRSDepTime_timezone\\', \\'CRSArrTime_timezone\\', \\'Origin\\', \\'Dest\\', \\n    \\'DayOfWeek\\', \\'CancellationCode\\',\\'FlightDate\\',\\'ArrDelay\\',\\n               \\'CRSDepTime_Origin_HourlyVisibility\\',\\'CRSDepTime_Dest_HourlyVisibility\\',\\'CRSArrTime_Dest_HourlyVisibility\\',\\n                \\'CRSDepTime_Origin_HourlyDryBulbTemperature\\',\\'CRSArrTime_Dest_HourlyDryBulbTemperature\\',\\n                \\'CRSDepTime_Origin_HourlyWindSpeed\\',\\'CRSArrTime_Dest_HourlyWindSpeed\\',\\n               \\'CRSDepTime_Origin_HourlyRelativeHumidity\\',\\'CRSArrTime_Dest_HourlyRelativeHumidity\\',\\n    \\n                \\'CRSDepTime_Origin_HourlySkyConditions_OVC08\\',\\'CRSArrTime_Dest_HourlySkyConditions_OVC08\\',\\n                \\'CRSDepTime_Origin_HourlySkyConditions_BKN07\\',\\'CRSArrTime_Dest_HourlySkyConditions_BKN07\\',\\n                \\'CRSDepTime_Origin_HourlySkyConditions_BKN06\\',\\'CRSArrTime_Dest_HourlySkyConditions_BKN06\\',\\n                \\'CRSDepTime_Origin_HourlySkyConditions_BKN05\\',\\'CRSArrTime_Dest_HourlySkyConditions_BKN05\\',\\n                \\'CRSDepTime_Origin_HourlySkyConditions_SCT04\\',\\'CRSArrTime_Dest_HourlySkyConditions_SCT04\\',\\n                \\'CRSDepTime_Origin_HourlySkyConditions_SCT03\\',\\'CRSArrTime_Dest_HourlySkyConditions_SCT03\\',\\n                \\'CRSDepTime_Origin_HourlySkyConditions_FEW02\\',\\'CRSArrTime_Dest_HourlySkyConditions_FEW02\\',\\n                \\'CRSDepTime_Origin_HourlySkyConditions_FEW01\\',\\'CRSArrTime_Dest_HourlySkyConditions_FEW01\\',\\n                \\'CRSDepTime_Origin_HourlySkyConditions_CLR00\\',\\'CRSArrTime_Dest_HourlySkyConditions_CLR00\\',\\n]\\n                    chunk = chunk[column_order]\\n                    \\n                    # Append chunk to the output CSV file\\n                    chunk.to_csv(f_out, index=False, header=not header_written, mode=\\'a\\')\\n                    header_written = True  # Write header only once for the first chunk\\n                else:\\n                    print(f\"Skipping file {file} as it lacks required columns: {missing_columns}\")\\n        except Exception as e:\\n            print(f\"Error processing file {file}: {e}\")\\n'"
      ]
     },
     "execution_count": 7,
     "metadata": {},
     "output_type": "execute_result"
    }
   ],
   "source": [
    "'''\n",
    "import pandas as pd\n",
    "import glob\n",
    "import os\n",
    "\n",
    "# Define the columns you want to keep for memory efficiency\n",
    "columns_to_keep = ['IATA_Code_Operating_Airline', 'CRSDepTime_timezone', 'CRSArrTime_timezone', 'Origin', 'Dest', \n",
    "    'DayOfWeek', 'CancellationCode','FlightDate','ArrDelay',\n",
    "               'CRSDepTime_Origin_HourlyVisibility','CRSDepTime_Dest_HourlyVisibility','CRSArrTime_Dest_HourlyVisibility',\n",
    "                'CRSDepTime_Origin_HourlyDryBulbTemperature','CRSArrTime_Dest_HourlyDryBulbTemperature',\n",
    "                'CRSDepTime_Origin_HourlyWindSpeed','CRSArrTime_Dest_HourlyWindSpeed',\n",
    "               'CRSDepTime_Origin_HourlyRelativeHumidity','CRSArrTime_Dest_HourlyRelativeHumidity',\n",
    "    \n",
    "                'CRSDepTime_Origin_HourlySkyConditions_OVC08','CRSArrTime_Dest_HourlySkyConditions_OVC08',\n",
    "                'CRSDepTime_Origin_HourlySkyConditions_BKN07','CRSArrTime_Dest_HourlySkyConditions_BKN07',\n",
    "                'CRSDepTime_Origin_HourlySkyConditions_BKN06','CRSArrTime_Dest_HourlySkyConditions_BKN06',\n",
    "                'CRSDepTime_Origin_HourlySkyConditions_BKN05','CRSArrTime_Dest_HourlySkyConditions_BKN05',\n",
    "                'CRSDepTime_Origin_HourlySkyConditions_SCT04','CRSArrTime_Dest_HourlySkyConditions_SCT04',\n",
    "                'CRSDepTime_Origin_HourlySkyConditions_SCT03','CRSArrTime_Dest_HourlySkyConditions_SCT03',\n",
    "                'CRSDepTime_Origin_HourlySkyConditions_FEW02','CRSArrTime_Dest_HourlySkyConditions_FEW02',\n",
    "                'CRSDepTime_Origin_HourlySkyConditions_FEW01','CRSArrTime_Dest_HourlySkyConditions_FEW01',\n",
    "                'CRSDepTime_Origin_HourlySkyConditions_CLR00','CRSArrTime_Dest_HourlySkyConditions_CLR00',\n",
    "]\n",
    "\n",
    "# Define the output file name\n",
    "output_file = 'D:\\STAT628-Module3-Group2-main\\Climatological-Data\\Combined_file.csv'\n",
    "\n",
    "# Initialize an output file\n",
    "with open(output_file, 'w') as f_out:\n",
    "    # Initialize the header_written flag\n",
    "    header_written = False\n",
    "    \n",
    "    # Find all CSV files in the current directory and sort them by filename\n",
    "    csv_files = sorted(glob.glob(\"D:\\STAT628-Module3-Group2-main\\Climatological-Data\\Flight-Data-Merged-18/*-*.csv\"))  # Sort ensures processing in alphabetical order\n",
    "    for file in csv_files:\n",
    "        # Skip the output file if it’s in the same folder\n",
    "        if file.endswith(output_file):\n",
    "            print(f\"Skipping output file: {file}\")\n",
    "            continue\n",
    "        \n",
    "        print(f\"Processing file: {file}\")  # Print the name of the file being processed\n",
    "        try:\n",
    "            # Check if the file is empty or corrupt\n",
    "            if os.stat(file).st_size == 0:\n",
    "                print(f\"Skipping empty file {file}\")\n",
    "                continue\n",
    "            \n",
    "            # Read each file in chunks to manage memory and specify dtype to handle mixed data types\n",
    "            for chunk in pd.read_csv(file, usecols=columns_to_keep, chunksize=600000, low_memory=False, \n",
    "                                     dtype={'IATA_Code_Operating_Airline': str, 'Origin': str, 'Dest': str}):\n",
    "                \n",
    "                # Check for missing columns before processing\n",
    "                missing_columns = set(['CRSDepTime_timezone', 'CRSArrTime_timezone']) - set(chunk.columns)\n",
    "                if not missing_columns:\n",
    "                    # Convert time columns to datetime format for calculations (if needed)\n",
    "                    chunk['CRSDepTime_timezone'] = pd.to_datetime(chunk['CRSDepTime_timezone'], errors='coerce')\n",
    "                    chunk['CRSArrTime_timezone'] = pd.to_datetime(chunk['CRSArrTime_timezone'], errors='coerce')\n",
    "                    \n",
    "                    # Define the correct column order based on columns_to_keep\n",
    "                    column_order = ['IATA_Code_Operating_Airline', 'CRSDepTime_timezone', 'CRSArrTime_timezone', 'Origin', 'Dest', \n",
    "    'DayOfWeek', 'CancellationCode','FlightDate','ArrDelay',\n",
    "               'CRSDepTime_Origin_HourlyVisibility','CRSDepTime_Dest_HourlyVisibility','CRSArrTime_Dest_HourlyVisibility',\n",
    "                'CRSDepTime_Origin_HourlyDryBulbTemperature','CRSArrTime_Dest_HourlyDryBulbTemperature',\n",
    "                'CRSDepTime_Origin_HourlyWindSpeed','CRSArrTime_Dest_HourlyWindSpeed',\n",
    "               'CRSDepTime_Origin_HourlyRelativeHumidity','CRSArrTime_Dest_HourlyRelativeHumidity',\n",
    "    \n",
    "                'CRSDepTime_Origin_HourlySkyConditions_OVC08','CRSArrTime_Dest_HourlySkyConditions_OVC08',\n",
    "                'CRSDepTime_Origin_HourlySkyConditions_BKN07','CRSArrTime_Dest_HourlySkyConditions_BKN07',\n",
    "                'CRSDepTime_Origin_HourlySkyConditions_BKN06','CRSArrTime_Dest_HourlySkyConditions_BKN06',\n",
    "                'CRSDepTime_Origin_HourlySkyConditions_BKN05','CRSArrTime_Dest_HourlySkyConditions_BKN05',\n",
    "                'CRSDepTime_Origin_HourlySkyConditions_SCT04','CRSArrTime_Dest_HourlySkyConditions_SCT04',\n",
    "                'CRSDepTime_Origin_HourlySkyConditions_SCT03','CRSArrTime_Dest_HourlySkyConditions_SCT03',\n",
    "                'CRSDepTime_Origin_HourlySkyConditions_FEW02','CRSArrTime_Dest_HourlySkyConditions_FEW02',\n",
    "                'CRSDepTime_Origin_HourlySkyConditions_FEW01','CRSArrTime_Dest_HourlySkyConditions_FEW01',\n",
    "                'CRSDepTime_Origin_HourlySkyConditions_CLR00','CRSArrTime_Dest_HourlySkyConditions_CLR00',\n",
    "]\n",
    "                    chunk = chunk[column_order]\n",
    "                    \n",
    "                    # Append chunk to the output CSV file\n",
    "                    chunk.to_csv(f_out, index=False, header=not header_written, mode='a')\n",
    "                    header_written = True  # Write header only once for the first chunk\n",
    "                else:\n",
    "                    print(f\"Skipping file {file} as it lacks required columns: {missing_columns}\")\n",
    "        except Exception as e:\n",
    "            print(f\"Error processing file {file}: {e}\")\n",
    "'''"
   ]
  },
  {
   "cell_type": "code",
   "execution_count": null,
   "metadata": {},
   "outputs": [
    {
     "name": "stdout",
     "output_type": "stream",
     "text": [
      "(1048575, 12)\n",
      "<class 'pandas.core.frame.DataFrame'>\n",
      "RangeIndex: 1048575 entries, 0 to 1048574\n",
      "Data columns (total 12 columns):\n",
      " #   Column                           Non-Null Count    Dtype  \n",
      "---  ------                           --------------    -----  \n",
      " 0   id                               1048575 non-null  int64  \n",
      " 1   CRSDepTime_timezone              1048575 non-null  object \n",
      " 2   CRSArrTime_timezone              1048575 non-null  object \n",
      " 3   Marketing_Airline_Network        1048575 non-null  object \n",
      " 4   Flight_Number_Marketing_Airline  1048575 non-null  object \n",
      " 5   IATA_Code_Operating_Airline      1048575 non-null  object \n",
      " 6   Flight_Number_Operating_Airline  1048575 non-null  object \n",
      " 7   Origin                           1048575 non-null  object \n",
      " 8   Dest                             1048575 non-null  object \n",
      " 9   Flight_Duration                  1048575 non-null  object \n",
      " 10  Average_ArrDelay                 1048575 non-null  int64  \n",
      " 11  Cancellation_Rate                1048575 non-null  float64\n",
      "dtypes: float64(1), int64(2), object(9)\n",
      "memory usage: 96.0+ MB\n",
      "None\n"
     ]
    }
   ],
   "source": [
    "print(data.shape)\n",
    "print(data.info())\n",
    "\n"
   ]
  },
  {
   "cell_type": "code",
   "execution_count": null,
   "metadata": {},
   "outputs": [
    {
     "name": "stdout",
     "output_type": "stream",
     "text": [
      "  CancellationCode  Cancelled\n",
      "0              NaN          0\n",
      "1              NaN          0\n",
      "2              NaN          0\n",
      "3              NaN          0\n",
      "4              NaN          0\n"
     ]
    }
   ],
   "source": [
    "#cancelled\n",
    "\n",
    "data['Cancelled'] = data['CancellationCode'].apply(lambda x: 1 if pd.notnull(x) else 0)\n",
    "print(data[['CancellationCode', 'Cancelled']].head(5))"
   ]
  },
  {
   "cell_type": "code",
   "execution_count": 27,
   "metadata": {},
   "outputs": [
    {
     "name": "stdout",
     "output_type": "stream",
     "text": [
      "   Original_Airline_Type  Encoded_Airline_Type\n",
      "0                     9E                     0\n",
      "1                     AA                     1\n",
      "2                     AS                     2\n",
      "3                     B6                     3\n",
      "4                     C5                     4\n",
      "5                     DL                     5\n",
      "6                     F9                     6\n",
      "7                     G4                     7\n",
      "8                     G7                     8\n",
      "9                     HA                     9\n",
      "10                    MQ                    10\n",
      "11                    NK                    11\n",
      "12                    OH                    12\n",
      "13                    OO                    13\n",
      "14                    PT                    14\n",
      "15                    QX                    15\n",
      "16                    UA                    16\n",
      "17                    WN                    17\n",
      "18                    YV                    18\n",
      "19                    YX                    19\n",
      "20                    ZW                    20\n"
     ]
    }
   ],
   "source": [
    "# airline type\n",
    "from sklearn.preprocessing import LabelEncoder\n",
    "label_encoder = LabelEncoder()\n",
    "\n",
    "# 对 'airline_type' 列进行编码\n",
    "data['airline_type'] = label_encoder.fit_transform(data['IATA_Code_Operating_Airline'])\n",
    "# 将 'airline_type' 转换为类别变量\n",
    "data['airline_type'] = data['airline_type'].astype('category')\n",
    "airline_mapping = pd.DataFrame({\n",
    "    'Original_Airline_Type': label_encoder.classes_,\n",
    "    'Encoded_Airline_Type': range(len(label_encoder.classes_))\n",
    "})\n",
    "\n",
    "data['DepAirport'] = label_encoder.fit_transform(data['Origin'])\n",
    "data['DepAirport'] = data['DepAirport'].astype('category')\n",
    "data['ArrAirport'] = label_encoder.fit_transform(data['Dest'])\n",
    "data['ArrAirport'] = data['ArrAirport'].astype('category')\n",
    "# 查看编码结果\n",
    "print(airline_mapping)\n"
   ]
  },
  {
   "cell_type": "code",
   "execution_count": null,
   "metadata": {},
   "outputs": [
    {
     "ename": "KeyError",
     "evalue": "'FlightDate'",
     "output_type": "error",
     "traceback": [
      "\u001b[1;31m---------------------------------------------------------------------------\u001b[0m",
      "\u001b[1;31mKeyError\u001b[0m                                  Traceback (most recent call last)",
      "File \u001b[1;32md:\\Python\\Lib\\site-packages\\pandas\\core\\indexes\\base.py:3790\u001b[0m, in \u001b[0;36mIndex.get_loc\u001b[1;34m(self, key)\u001b[0m\n\u001b[0;32m   3789\u001b[0m \u001b[38;5;28;01mtry\u001b[39;00m:\n\u001b[1;32m-> 3790\u001b[0m     \u001b[38;5;28;01mreturn\u001b[39;00m \u001b[38;5;28;43mself\u001b[39;49m\u001b[38;5;241;43m.\u001b[39;49m\u001b[43m_engine\u001b[49m\u001b[38;5;241;43m.\u001b[39;49m\u001b[43mget_loc\u001b[49m\u001b[43m(\u001b[49m\u001b[43mcasted_key\u001b[49m\u001b[43m)\u001b[49m\n\u001b[0;32m   3791\u001b[0m \u001b[38;5;28;01mexcept\u001b[39;00m \u001b[38;5;167;01mKeyError\u001b[39;00m \u001b[38;5;28;01mas\u001b[39;00m err:\n",
      "File \u001b[1;32mindex.pyx:152\u001b[0m, in \u001b[0;36mpandas._libs.index.IndexEngine.get_loc\u001b[1;34m()\u001b[0m\n",
      "File \u001b[1;32mindex.pyx:181\u001b[0m, in \u001b[0;36mpandas._libs.index.IndexEngine.get_loc\u001b[1;34m()\u001b[0m\n",
      "File \u001b[1;32mpandas\\_libs\\hashtable_class_helper.pxi:7080\u001b[0m, in \u001b[0;36mpandas._libs.hashtable.PyObjectHashTable.get_item\u001b[1;34m()\u001b[0m\n",
      "File \u001b[1;32mpandas\\_libs\\hashtable_class_helper.pxi:7088\u001b[0m, in \u001b[0;36mpandas._libs.hashtable.PyObjectHashTable.get_item\u001b[1;34m()\u001b[0m\n",
      "\u001b[1;31mKeyError\u001b[0m: 'FlightDate'",
      "\nThe above exception was the direct cause of the following exception:\n",
      "\u001b[1;31mKeyError\u001b[0m                                  Traceback (most recent call last)",
      "Cell \u001b[1;32mIn[28], line 2\u001b[0m\n\u001b[0;32m      1\u001b[0m \u001b[38;5;66;03m#提取月份\u001b[39;00m\n\u001b[1;32m----> 2\u001b[0m data[\u001b[38;5;124m'\u001b[39m\u001b[38;5;124mFlightdate\u001b[39m\u001b[38;5;124m'\u001b[39m] \u001b[38;5;241m=\u001b[39m pd\u001b[38;5;241m.\u001b[39mto_datetime(\u001b[43mdata\u001b[49m\u001b[43m[\u001b[49m\u001b[38;5;124;43m'\u001b[39;49m\u001b[38;5;124;43mFlightDate\u001b[39;49m\u001b[38;5;124;43m'\u001b[39;49m\u001b[43m]\u001b[49m, errors\u001b[38;5;241m=\u001b[39m\u001b[38;5;124m'\u001b[39m\u001b[38;5;124mcoerce\u001b[39m\u001b[38;5;124m'\u001b[39m)\n\u001b[0;32m      3\u001b[0m data[\u001b[38;5;124m'\u001b[39m\u001b[38;5;124mMonth\u001b[39m\u001b[38;5;124m'\u001b[39m] \u001b[38;5;241m=\u001b[39m data[\u001b[38;5;124m'\u001b[39m\u001b[38;5;124mFlightdate\u001b[39m\u001b[38;5;124m'\u001b[39m]\u001b[38;5;241m.\u001b[39mdt\u001b[38;5;241m.\u001b[39mmonth\n\u001b[0;32m      4\u001b[0m \u001b[38;5;28mprint\u001b[39m(data[[\u001b[38;5;124m'\u001b[39m\u001b[38;5;124mFlightdate\u001b[39m\u001b[38;5;124m'\u001b[39m, \u001b[38;5;124m'\u001b[39m\u001b[38;5;124mMonth\u001b[39m\u001b[38;5;124m'\u001b[39m]]\u001b[38;5;241m.\u001b[39mhead(\u001b[38;5;241m5\u001b[39m))\n",
      "File \u001b[1;32md:\\Python\\Lib\\site-packages\\pandas\\core\\frame.py:3896\u001b[0m, in \u001b[0;36mDataFrame.__getitem__\u001b[1;34m(self, key)\u001b[0m\n\u001b[0;32m   3894\u001b[0m \u001b[38;5;28;01mif\u001b[39;00m \u001b[38;5;28mself\u001b[39m\u001b[38;5;241m.\u001b[39mcolumns\u001b[38;5;241m.\u001b[39mnlevels \u001b[38;5;241m>\u001b[39m \u001b[38;5;241m1\u001b[39m:\n\u001b[0;32m   3895\u001b[0m     \u001b[38;5;28;01mreturn\u001b[39;00m \u001b[38;5;28mself\u001b[39m\u001b[38;5;241m.\u001b[39m_getitem_multilevel(key)\n\u001b[1;32m-> 3896\u001b[0m indexer \u001b[38;5;241m=\u001b[39m \u001b[38;5;28;43mself\u001b[39;49m\u001b[38;5;241;43m.\u001b[39;49m\u001b[43mcolumns\u001b[49m\u001b[38;5;241;43m.\u001b[39;49m\u001b[43mget_loc\u001b[49m\u001b[43m(\u001b[49m\u001b[43mkey\u001b[49m\u001b[43m)\u001b[49m\n\u001b[0;32m   3897\u001b[0m \u001b[38;5;28;01mif\u001b[39;00m is_integer(indexer):\n\u001b[0;32m   3898\u001b[0m     indexer \u001b[38;5;241m=\u001b[39m [indexer]\n",
      "File \u001b[1;32md:\\Python\\Lib\\site-packages\\pandas\\core\\indexes\\base.py:3797\u001b[0m, in \u001b[0;36mIndex.get_loc\u001b[1;34m(self, key)\u001b[0m\n\u001b[0;32m   3792\u001b[0m     \u001b[38;5;28;01mif\u001b[39;00m \u001b[38;5;28misinstance\u001b[39m(casted_key, \u001b[38;5;28mslice\u001b[39m) \u001b[38;5;129;01mor\u001b[39;00m (\n\u001b[0;32m   3793\u001b[0m         \u001b[38;5;28misinstance\u001b[39m(casted_key, abc\u001b[38;5;241m.\u001b[39mIterable)\n\u001b[0;32m   3794\u001b[0m         \u001b[38;5;129;01mand\u001b[39;00m \u001b[38;5;28many\u001b[39m(\u001b[38;5;28misinstance\u001b[39m(x, \u001b[38;5;28mslice\u001b[39m) \u001b[38;5;28;01mfor\u001b[39;00m x \u001b[38;5;129;01min\u001b[39;00m casted_key)\n\u001b[0;32m   3795\u001b[0m     ):\n\u001b[0;32m   3796\u001b[0m         \u001b[38;5;28;01mraise\u001b[39;00m InvalidIndexError(key)\n\u001b[1;32m-> 3797\u001b[0m     \u001b[38;5;28;01mraise\u001b[39;00m \u001b[38;5;167;01mKeyError\u001b[39;00m(key) \u001b[38;5;28;01mfrom\u001b[39;00m \u001b[38;5;21;01merr\u001b[39;00m\n\u001b[0;32m   3798\u001b[0m \u001b[38;5;28;01mexcept\u001b[39;00m \u001b[38;5;167;01mTypeError\u001b[39;00m:\n\u001b[0;32m   3799\u001b[0m     \u001b[38;5;66;03m# If we have a listlike key, _check_indexing_error will raise\u001b[39;00m\n\u001b[0;32m   3800\u001b[0m     \u001b[38;5;66;03m#  InvalidIndexError. Otherwise we fall through and re-raise\u001b[39;00m\n\u001b[0;32m   3801\u001b[0m     \u001b[38;5;66;03m#  the TypeError.\u001b[39;00m\n\u001b[0;32m   3802\u001b[0m     \u001b[38;5;28mself\u001b[39m\u001b[38;5;241m.\u001b[39m_check_indexing_error(key)\n",
      "\u001b[1;31mKeyError\u001b[0m: 'FlightDate'"
     ]
    }
   ],
   "source": [
    "\n",
    "data['Flightdate'] = pd.to_datetime(data['FlightDate'], errors='coerce')\n",
    "data['Month'] = data['Flightdate'].dt.month\n",
    "print(data[['Flightdate', 'Month']].head(5))\n"
   ]
  },
  {
   "cell_type": "code",
   "execution_count": 29,
   "metadata": {},
   "outputs": [
    {
     "ename": "TypeError",
     "evalue": "unsupported operand type(s) for -: 'str' and 'str'",
     "output_type": "error",
     "traceback": [
      "\u001b[1;31m---------------------------------------------------------------------------\u001b[0m",
      "\u001b[1;31mTypeError\u001b[0m                                 Traceback (most recent call last)",
      "File \u001b[1;32md:\\Python\\Lib\\site-packages\\pandas\\core\\ops\\array_ops.py:220\u001b[0m, in \u001b[0;36m_na_arithmetic_op\u001b[1;34m(left, right, op, is_cmp)\u001b[0m\n\u001b[0;32m    219\u001b[0m \u001b[38;5;28;01mtry\u001b[39;00m:\n\u001b[1;32m--> 220\u001b[0m     result \u001b[38;5;241m=\u001b[39m \u001b[43mfunc\u001b[49m\u001b[43m(\u001b[49m\u001b[43mleft\u001b[49m\u001b[43m,\u001b[49m\u001b[43m \u001b[49m\u001b[43mright\u001b[49m\u001b[43m)\u001b[49m\n\u001b[0;32m    221\u001b[0m \u001b[38;5;28;01mexcept\u001b[39;00m \u001b[38;5;167;01mTypeError\u001b[39;00m:\n",
      "File \u001b[1;32md:\\Python\\Lib\\site-packages\\pandas\\core\\computation\\expressions.py:242\u001b[0m, in \u001b[0;36mevaluate\u001b[1;34m(op, a, b, use_numexpr)\u001b[0m\n\u001b[0;32m    240\u001b[0m     \u001b[38;5;28;01mif\u001b[39;00m use_numexpr:\n\u001b[0;32m    241\u001b[0m         \u001b[38;5;66;03m# error: \"None\" not callable\u001b[39;00m\n\u001b[1;32m--> 242\u001b[0m         \u001b[38;5;28;01mreturn\u001b[39;00m \u001b[43m_evaluate\u001b[49m\u001b[43m(\u001b[49m\u001b[43mop\u001b[49m\u001b[43m,\u001b[49m\u001b[43m \u001b[49m\u001b[43mop_str\u001b[49m\u001b[43m,\u001b[49m\u001b[43m \u001b[49m\u001b[43ma\u001b[49m\u001b[43m,\u001b[49m\u001b[43m \u001b[49m\u001b[43mb\u001b[49m\u001b[43m)\u001b[49m  \u001b[38;5;66;03m# type: ignore[misc]\u001b[39;00m\n\u001b[0;32m    243\u001b[0m \u001b[38;5;28;01mreturn\u001b[39;00m _evaluate_standard(op, op_str, a, b)\n",
      "File \u001b[1;32md:\\Python\\Lib\\site-packages\\pandas\\core\\computation\\expressions.py:73\u001b[0m, in \u001b[0;36m_evaluate_standard\u001b[1;34m(op, op_str, a, b)\u001b[0m\n\u001b[0;32m     72\u001b[0m     _store_test_result(\u001b[38;5;28;01mFalse\u001b[39;00m)\n\u001b[1;32m---> 73\u001b[0m \u001b[38;5;28;01mreturn\u001b[39;00m \u001b[43mop\u001b[49m\u001b[43m(\u001b[49m\u001b[43ma\u001b[49m\u001b[43m,\u001b[49m\u001b[43m \u001b[49m\u001b[43mb\u001b[49m\u001b[43m)\u001b[49m\n",
      "\u001b[1;31mTypeError\u001b[0m: unsupported operand type(s) for -: 'str' and 'str'",
      "\nDuring handling of the above exception, another exception occurred:\n",
      "\u001b[1;31mTypeError\u001b[0m                                 Traceback (most recent call last)",
      "Cell \u001b[1;32mIn[29], line 4\u001b[0m\n\u001b[0;32m      1\u001b[0m \u001b[38;5;66;03m#flight duration\u001b[39;00m\n\u001b[1;32m----> 4\u001b[0m data[\u001b[38;5;124m'\u001b[39m\u001b[38;5;124mFlightDuration\u001b[39m\u001b[38;5;124m'\u001b[39m] \u001b[38;5;241m=\u001b[39m \u001b[43mdata\u001b[49m\u001b[43m[\u001b[49m\u001b[38;5;124;43m'\u001b[39;49m\u001b[38;5;124;43mCRSArrTime_timezone\u001b[39;49m\u001b[38;5;124;43m'\u001b[39;49m\u001b[43m]\u001b[49m\u001b[43m \u001b[49m\u001b[38;5;241;43m-\u001b[39;49m\u001b[43m \u001b[49m\u001b[43mdata\u001b[49m\u001b[43m[\u001b[49m\u001b[38;5;124;43m'\u001b[39;49m\u001b[38;5;124;43mCRSDepTime_timezone\u001b[39;49m\u001b[38;5;124;43m'\u001b[39;49m\u001b[43m]\u001b[49m\n\u001b[0;32m      5\u001b[0m \u001b[38;5;66;03m# 确保 FlightDuration 是 timedelta 类型，然后转换为分钟数\u001b[39;00m\n\u001b[0;32m      6\u001b[0m data[\u001b[38;5;124m'\u001b[39m\u001b[38;5;124mFlightDuration_Minutes\u001b[39m\u001b[38;5;124m'\u001b[39m] \u001b[38;5;241m=\u001b[39m data[\u001b[38;5;124m'\u001b[39m\u001b[38;5;124mFlightDuration\u001b[39m\u001b[38;5;124m'\u001b[39m]\u001b[38;5;241m.\u001b[39mapply(\u001b[38;5;28;01mlambda\u001b[39;00m x: x\u001b[38;5;241m.\u001b[39mtotal_seconds() \u001b[38;5;241m/\u001b[39m \u001b[38;5;241m60\u001b[39m \u001b[38;5;28;01mif\u001b[39;00m pd\u001b[38;5;241m.\u001b[39mnotnull(x) \u001b[38;5;28;01melse\u001b[39;00m \u001b[38;5;28;01mNone\u001b[39;00m)\n",
      "File \u001b[1;32md:\\Python\\Lib\\site-packages\\pandas\\core\\ops\\common.py:76\u001b[0m, in \u001b[0;36m_unpack_zerodim_and_defer.<locals>.new_method\u001b[1;34m(self, other)\u001b[0m\n\u001b[0;32m     72\u001b[0m             \u001b[38;5;28;01mreturn\u001b[39;00m \u001b[38;5;28mNotImplemented\u001b[39m\n\u001b[0;32m     74\u001b[0m other \u001b[38;5;241m=\u001b[39m item_from_zerodim(other)\n\u001b[1;32m---> 76\u001b[0m \u001b[38;5;28;01mreturn\u001b[39;00m \u001b[43mmethod\u001b[49m\u001b[43m(\u001b[49m\u001b[38;5;28;43mself\u001b[39;49m\u001b[43m,\u001b[49m\u001b[43m \u001b[49m\u001b[43mother\u001b[49m\u001b[43m)\u001b[49m\n",
      "File \u001b[1;32md:\\Python\\Lib\\site-packages\\pandas\\core\\arraylike.py:194\u001b[0m, in \u001b[0;36mOpsMixin.__sub__\u001b[1;34m(self, other)\u001b[0m\n\u001b[0;32m    192\u001b[0m \u001b[38;5;129m@unpack_zerodim_and_defer\u001b[39m(\u001b[38;5;124m\"\u001b[39m\u001b[38;5;124m__sub__\u001b[39m\u001b[38;5;124m\"\u001b[39m)\n\u001b[0;32m    193\u001b[0m \u001b[38;5;28;01mdef\u001b[39;00m \u001b[38;5;21m__sub__\u001b[39m(\u001b[38;5;28mself\u001b[39m, other):\n\u001b[1;32m--> 194\u001b[0m     \u001b[38;5;28;01mreturn\u001b[39;00m \u001b[38;5;28;43mself\u001b[39;49m\u001b[38;5;241;43m.\u001b[39;49m\u001b[43m_arith_method\u001b[49m\u001b[43m(\u001b[49m\u001b[43mother\u001b[49m\u001b[43m,\u001b[49m\u001b[43m \u001b[49m\u001b[43moperator\u001b[49m\u001b[38;5;241;43m.\u001b[39;49m\u001b[43msub\u001b[49m\u001b[43m)\u001b[49m\n",
      "File \u001b[1;32md:\\Python\\Lib\\site-packages\\pandas\\core\\series.py:5815\u001b[0m, in \u001b[0;36mSeries._arith_method\u001b[1;34m(self, other, op)\u001b[0m\n\u001b[0;32m   5813\u001b[0m \u001b[38;5;28;01mdef\u001b[39;00m \u001b[38;5;21m_arith_method\u001b[39m(\u001b[38;5;28mself\u001b[39m, other, op):\n\u001b[0;32m   5814\u001b[0m     \u001b[38;5;28mself\u001b[39m, other \u001b[38;5;241m=\u001b[39m \u001b[38;5;28mself\u001b[39m\u001b[38;5;241m.\u001b[39m_align_for_op(other)\n\u001b[1;32m-> 5815\u001b[0m     \u001b[38;5;28;01mreturn\u001b[39;00m \u001b[43mbase\u001b[49m\u001b[38;5;241;43m.\u001b[39;49m\u001b[43mIndexOpsMixin\u001b[49m\u001b[38;5;241;43m.\u001b[39;49m\u001b[43m_arith_method\u001b[49m\u001b[43m(\u001b[49m\u001b[38;5;28;43mself\u001b[39;49m\u001b[43m,\u001b[49m\u001b[43m \u001b[49m\u001b[43mother\u001b[49m\u001b[43m,\u001b[49m\u001b[43m \u001b[49m\u001b[43mop\u001b[49m\u001b[43m)\u001b[49m\n",
      "File \u001b[1;32md:\\Python\\Lib\\site-packages\\pandas\\core\\base.py:1381\u001b[0m, in \u001b[0;36mIndexOpsMixin._arith_method\u001b[1;34m(self, other, op)\u001b[0m\n\u001b[0;32m   1378\u001b[0m     rvalues \u001b[38;5;241m=\u001b[39m np\u001b[38;5;241m.\u001b[39marange(rvalues\u001b[38;5;241m.\u001b[39mstart, rvalues\u001b[38;5;241m.\u001b[39mstop, rvalues\u001b[38;5;241m.\u001b[39mstep)\n\u001b[0;32m   1380\u001b[0m \u001b[38;5;28;01mwith\u001b[39;00m np\u001b[38;5;241m.\u001b[39merrstate(\u001b[38;5;28mall\u001b[39m\u001b[38;5;241m=\u001b[39m\u001b[38;5;124m\"\u001b[39m\u001b[38;5;124mignore\u001b[39m\u001b[38;5;124m\"\u001b[39m):\n\u001b[1;32m-> 1381\u001b[0m     result \u001b[38;5;241m=\u001b[39m \u001b[43mops\u001b[49m\u001b[38;5;241;43m.\u001b[39;49m\u001b[43marithmetic_op\u001b[49m\u001b[43m(\u001b[49m\u001b[43mlvalues\u001b[49m\u001b[43m,\u001b[49m\u001b[43m \u001b[49m\u001b[43mrvalues\u001b[49m\u001b[43m,\u001b[49m\u001b[43m \u001b[49m\u001b[43mop\u001b[49m\u001b[43m)\u001b[49m\n\u001b[0;32m   1383\u001b[0m \u001b[38;5;28;01mreturn\u001b[39;00m \u001b[38;5;28mself\u001b[39m\u001b[38;5;241m.\u001b[39m_construct_result(result, name\u001b[38;5;241m=\u001b[39mres_name)\n",
      "File \u001b[1;32md:\\Python\\Lib\\site-packages\\pandas\\core\\ops\\array_ops.py:285\u001b[0m, in \u001b[0;36marithmetic_op\u001b[1;34m(left, right, op)\u001b[0m\n\u001b[0;32m    281\u001b[0m     _bool_arith_check(op, left, right)  \u001b[38;5;66;03m# type: ignore[arg-type]\u001b[39;00m\n\u001b[0;32m    283\u001b[0m     \u001b[38;5;66;03m# error: Argument 1 to \"_na_arithmetic_op\" has incompatible type\u001b[39;00m\n\u001b[0;32m    284\u001b[0m     \u001b[38;5;66;03m# \"Union[ExtensionArray, ndarray[Any, Any]]\"; expected \"ndarray[Any, Any]\"\u001b[39;00m\n\u001b[1;32m--> 285\u001b[0m     res_values \u001b[38;5;241m=\u001b[39m \u001b[43m_na_arithmetic_op\u001b[49m\u001b[43m(\u001b[49m\u001b[43mleft\u001b[49m\u001b[43m,\u001b[49m\u001b[43m \u001b[49m\u001b[43mright\u001b[49m\u001b[43m,\u001b[49m\u001b[43m \u001b[49m\u001b[43mop\u001b[49m\u001b[43m)\u001b[49m  \u001b[38;5;66;03m# type: ignore[arg-type]\u001b[39;00m\n\u001b[0;32m    287\u001b[0m \u001b[38;5;28;01mreturn\u001b[39;00m res_values\n",
      "File \u001b[1;32md:\\Python\\Lib\\site-packages\\pandas\\core\\ops\\array_ops.py:229\u001b[0m, in \u001b[0;36m_na_arithmetic_op\u001b[1;34m(left, right, op, is_cmp)\u001b[0m\n\u001b[0;32m    221\u001b[0m \u001b[38;5;28;01mexcept\u001b[39;00m \u001b[38;5;167;01mTypeError\u001b[39;00m:\n\u001b[0;32m    222\u001b[0m     \u001b[38;5;28;01mif\u001b[39;00m \u001b[38;5;129;01mnot\u001b[39;00m is_cmp \u001b[38;5;129;01mand\u001b[39;00m (\n\u001b[0;32m    223\u001b[0m         left\u001b[38;5;241m.\u001b[39mdtype \u001b[38;5;241m==\u001b[39m \u001b[38;5;28mobject\u001b[39m \u001b[38;5;129;01mor\u001b[39;00m \u001b[38;5;28mgetattr\u001b[39m(right, \u001b[38;5;124m\"\u001b[39m\u001b[38;5;124mdtype\u001b[39m\u001b[38;5;124m\"\u001b[39m, \u001b[38;5;28;01mNone\u001b[39;00m) \u001b[38;5;241m==\u001b[39m \u001b[38;5;28mobject\u001b[39m\n\u001b[0;32m    224\u001b[0m     ):\n\u001b[1;32m   (...)\u001b[0m\n\u001b[0;32m    227\u001b[0m         \u001b[38;5;66;03m# Don't do this for comparisons, as that will handle complex numbers\u001b[39;00m\n\u001b[0;32m    228\u001b[0m         \u001b[38;5;66;03m#  incorrectly, see GH#32047\u001b[39;00m\n\u001b[1;32m--> 229\u001b[0m         result \u001b[38;5;241m=\u001b[39m \u001b[43m_masked_arith_op\u001b[49m\u001b[43m(\u001b[49m\u001b[43mleft\u001b[49m\u001b[43m,\u001b[49m\u001b[43m \u001b[49m\u001b[43mright\u001b[49m\u001b[43m,\u001b[49m\u001b[43m \u001b[49m\u001b[43mop\u001b[49m\u001b[43m)\u001b[49m\n\u001b[0;32m    230\u001b[0m     \u001b[38;5;28;01melse\u001b[39;00m:\n\u001b[0;32m    231\u001b[0m         \u001b[38;5;28;01mraise\u001b[39;00m\n",
      "File \u001b[1;32md:\\Python\\Lib\\site-packages\\pandas\\core\\ops\\array_ops.py:165\u001b[0m, in \u001b[0;36m_masked_arith_op\u001b[1;34m(x, y, op)\u001b[0m\n\u001b[0;32m    163\u001b[0m     \u001b[38;5;66;03m# See GH#5284, GH#5035, GH#19448 for historical reference\u001b[39;00m\n\u001b[0;32m    164\u001b[0m     \u001b[38;5;28;01mif\u001b[39;00m mask\u001b[38;5;241m.\u001b[39many():\n\u001b[1;32m--> 165\u001b[0m         result[mask] \u001b[38;5;241m=\u001b[39m \u001b[43mop\u001b[49m\u001b[43m(\u001b[49m\u001b[43mxrav\u001b[49m\u001b[43m[\u001b[49m\u001b[43mmask\u001b[49m\u001b[43m]\u001b[49m\u001b[43m,\u001b[49m\u001b[43m \u001b[49m\u001b[43myrav\u001b[49m\u001b[43m[\u001b[49m\u001b[43mmask\u001b[49m\u001b[43m]\u001b[49m\u001b[43m)\u001b[49m\n\u001b[0;32m    167\u001b[0m \u001b[38;5;28;01melse\u001b[39;00m:\n\u001b[0;32m    168\u001b[0m     \u001b[38;5;28;01mif\u001b[39;00m \u001b[38;5;129;01mnot\u001b[39;00m is_scalar(y):\n",
      "\u001b[1;31mTypeError\u001b[0m: unsupported operand type(s) for -: 'str' and 'str'"
     ]
    }
   ],
   "source": [
    "#flight duration\n",
    "\n",
    "\n",
    "data['FlightDuration'] = data['CRSArrTime_timezone'] - data['CRSDepTime_timezone']\n",
    "# 确保 FlightDuration 是 timedelta 类型，然后转换为分钟数\n",
    "data['FlightDuration_Minutes'] = data['FlightDuration'].apply(lambda x: x.total_seconds() / 60 if pd.notnull(x) else None)"
   ]
  },
  {
   "cell_type": "code",
   "execution_count": 31,
   "metadata": {},
   "outputs": [
    {
     "name": "stdout",
     "output_type": "stream",
     "text": [
      "Missing rate of 'feature_name': 0.00%\n"
     ]
    }
   ],
   "source": [
    "missing_rate = data['FlightDuration'].isnull().mean()\n",
    "print(f\"Missing rate of 'feature_name': {missing_rate:.2%}\")"
   ]
  },
  {
   "cell_type": "code",
   "execution_count": null,
   "metadata": {},
   "outputs": [
    {
     "name": "stderr",
     "output_type": "stream",
     "text": [
      "C:\\Users\\Kevin\\AppData\\Local\\Temp\\ipykernel_36572\\3256607117.py:6: FutureWarning: In a future version of pandas, parsing datetimes with mixed time zones will raise a warning unless `utc=True`. Please specify `utc=True` to opt in to the new behaviour and silence this warning. To create a `Series` with mixed offsets and `object` dtype, please use `apply` and `datetime.datetime.strptime`\n",
      "  data['CRSDepTime_timezone'] = pd.to_datetime(data['CRSDepTime_timezone'], errors='coerce')\n",
      "C:\\Users\\Kevin\\AppData\\Local\\Temp\\ipykernel_36572\\3256607117.py:7: FutureWarning: In a future version of pandas, parsing datetimes with mixed time zones will raise a warning unless `utc=True`. Please specify `utc=True` to opt in to the new behaviour and silence this warning. To create a `Series` with mixed offsets and `object` dtype, please use `apply` and `datetime.datetime.strptime`\n",
      "  data['CRSArrTime_timezone'] = pd.to_datetime(data['CRSArrTime_timezone'], errors='coerce')\n"
     ]
    },
    {
     "name": "stdout",
     "output_type": "stream",
     "text": [
      "   FlightDuration_Minutes CRSTimeOfDay_Dep CRSTimeOfDay_Arr\n",
      "0                   204.0                4                4\n",
      "1                    84.0                3                3\n",
      "2                   116.0                3                4\n",
      "3                   245.0                1                3\n",
      "4                   336.0                1                3\n"
     ]
    }
   ],
   "source": [
    "#Time of day\n",
    "\n",
    "def get_time_of_day(time):\n",
    "    hour = time.hour\n",
    "    if 0 <= hour < 6:\n",
    "        return 0   #  late night\n",
    "    elif 6 <= hour < 11:\n",
    "        return 1   #  morning\n",
    "    elif 11 <= hour < 13:\n",
    "        return 2   #  noon\n",
    "    elif 13 <= hour < 18:\n",
    "        return 3   # afternoon\n",
    "    elif 18 <= hour < 24:\n",
    "        return 4   # night\n",
    "\n",
    "\n",
    "data['CRSTimeOfDay_Dep'] = data['CRSDepTime_timezone'].apply(get_time_of_day)\n",
    "data['CRSTimeOfDay_Arr'] = data['CRSArrTime_timezone'].apply(get_time_of_day)\n",
    "data['CRSTimeOfDay_Dep'] = data['CRSTimeOfDay_Dep'].astype('category')\n",
    "data['CRSTimeOfDay_Arr'] = data['CRSTimeOfDay_Arr'].astype('category')\n",
    "\n",
    "print(data[['FlightDuration_Minutes', 'CRSTimeOfDay_Dep','CRSTimeOfDay_Arr']].head())\n",
    "\n",
    "\n",
    "\n"
   ]
  },
  {
   "cell_type": "code",
   "execution_count": null,
   "metadata": {},
   "outputs": [],
   "source": [
    "#Skycond\n",
    "\n",
    "def determine_CRSDepTimeskycond(row):\n",
    "    if row['CRSDepTime_Origin_HourlySkyConditions_OVC08'] == 1:\n",
    "        return 4\n",
    "    elif (row['CRSDepTime_Origin_HourlySkyConditions_BKN05'] == 1 or\n",
    "          row['CRSDepTime_Origin_HourlySkyConditions_BKN06'] == 1 or\n",
    "          row['CRSDepTime_Origin_HourlySkyConditions_BKN07'] == 1 ):\n",
    "        return 3\n",
    "    elif (row['CRSDepTime_Origin_HourlySkyConditions_SCT03'] == 1 or\n",
    "          row['CRSDepTime_Origin_HourlySkyConditions_SCT04'] == 1 ):\n",
    "        return 2\n",
    "    elif (row['CRSDepTime_Origin_HourlySkyConditions_FEW01'] == 1 or\n",
    "          row['CRSDepTime_Origin_HourlySkyConditions_FEW02'] == 1):\n",
    "        return 1\n",
    "    elif row['CRSDepTime_Origin_HourlySkyConditions_CLR00'] == 1:\n",
    "        return 0\n",
    "    else:\n",
    "        return None  \n",
    "def determine_CRSArrTimeskycond(row):\n",
    "    if row['CRSArrTime_Dest_HourlySkyConditions_OVC08'] == 1:\n",
    "        return 4\n",
    "    elif (row['CRSArrTime_Dest_HourlySkyConditions_BKN05'] == 1 or\n",
    "          row['CRSArrTime_Dest_HourlySkyConditions_BKN06'] == 1 or\n",
    "          row['CRSArrTime_Dest_HourlySkyConditions_BKN07'] == 1 ):\n",
    "        return 3\n",
    "    elif (row['CRSArrTime_Dest_HourlySkyConditions_SCT03'] == 1 or\n",
    "          row['CRSArrTime_Dest_HourlySkyConditions_SCT04'] == 1 ):\n",
    "        return 2\n",
    "    elif (row['CRSArrTime_Dest_HourlySkyConditions_FEW01'] == 1 or\n",
    "          row['CRSArrTime_Dest_HourlySkyConditions_FEW02'] == 1):\n",
    "        return 1\n",
    "    elif row['CRSArrTime_Dest_HourlySkyConditions_CLR00'] == 1:\n",
    "        return 0\n",
    "    else:\n",
    "        return None  \n",
    "\n",
    "data['CRSDepTime_Origin_skycond'] = data.apply(determine_CRSDepTimeskycond, axis=1)\n",
    "data['CRSArrTime_Dest_skycond'] = data.apply(determine_CRSArrTimeskycond, axis=1)\n",
    "\n"
   ]
  },
  {
   "cell_type": "code",
   "execution_count": 19,
   "metadata": {},
   "outputs": [],
   "source": [
    "data['DayOfWeek'] = data['DayOfWeek'].astype('category')"
   ]
  },
  {
   "cell_type": "code",
   "execution_count": null,
   "metadata": {},
   "outputs": [],
   "source": []
  },
  {
   "cell_type": "code",
   "execution_count": null,
   "metadata": {},
   "outputs": [],
   "source": [
    "crs_columns = ['airline_type','FlightDuration_Minutes','DepAirport','ArrAirport','DayOfWeek',\n",
    "               'CRSTimeOfDay_Dep','CRSTimeOfDay_Arr', 'Month',\n",
    "                'CRSDepTime_Origin_skycond',   'CRSArrTime_Dest_skycond'        ,                             # skycondition\n",
    "               'CRSDepTime_Origin_HourlyRelativeHumidity', 'CRSArrTime_Dest_HourlyRelativeHumidity' ,   #humidity\n",
    "               'CRSDepTime_Origin_HourlyDryBulbTemperature','CRSArrTime_Dest_HourlyDryBulbTemperature' ,      #temperature    \n",
    "               'CRSDepTime_Origin_HourlyWindSpeed',  'CRSArrTime_Dest_HourlyWindSpeed',  # windspeed\n",
    "                'CRSDepTime_Origin_HourlyVisibility', 'CRSArrTime_Dest_HourlyVisibility', # visibility  \n",
    "                'Cancelled','ArrDelay'\n",
    "                ]\n",
    "final_data = data[crs_columns]\n",
    "\n",
    "final_data = final_data.dropna(subset=[col for col in final_data.columns if col != 'ArrDelay'])\n",
    "\n",
    "final_data.to_csv('final_data.csv', index=False)"
   ]
  }
 ],
 "metadata": {
  "kernelspec": {
   "display_name": "Python 3",
   "language": "python",
   "name": "python3"
  },
  "language_info": {
   "codemirror_mode": {
    "name": "ipython",
    "version": 3
   },
   "file_extension": ".py",
   "mimetype": "text/x-python",
   "name": "python",
   "nbconvert_exporter": "python",
   "pygments_lexer": "ipython3",
   "version": "3.11.5"
  }
 },
 "nbformat": 4,
 "nbformat_minor": 2
}
