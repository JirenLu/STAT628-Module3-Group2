{
 "cells": [
  {
   "cell_type": "code",
   "execution_count": 1,
   "id": "435dbe6b",
   "metadata": {},
   "outputs": [
    {
     "name": "stderr",
     "output_type": "stream",
     "text": [
      "/var/folders/p1/4t2ts09s1pg1p6xt550h6jp80000gn/T/ipykernel_21824/1264380248.py:15: DtypeWarning: Columns (15) have mixed types. Specify dtype option on import or set low_memory=False.\n",
      "  df = pd.read_csv(file, encoding='ISO-8859-1')\n"
     ]
    },
    {
     "name": "stdout",
     "output_type": "stream",
     "text": [
      "Outliers summary saved as outliers_summary_20-1.csv\n",
      "Outliers summary saved as outliers_summary_20-12.csv\n",
      "Outliers summary saved as outliers_summary_20-11.csv\n",
      "Outliers summary saved as outliers_summary_22-1.csv\n",
      "Outliers summary saved as outliers_summary_22-11.csv\n",
      "Outliers summary saved as outliers_summary_18-11.csv\n",
      "Outliers summary saved as outliers_summary_22-12.csv\n",
      "Outliers summary saved as outliers_summary_24-1.csv\n",
      "Outliers summary saved as outliers_summary_19-1.csv\n",
      "Outliers summary saved as outliers_summary_18-12.csv\n",
      "Outliers summary saved as outliers_summary_23-1.csv\n",
      "Outliers summary saved as outliers_summary_21-1.csv\n",
      "Outliers summary saved as outliers_summary_18-1.csv\n"
     ]
    },
    {
     "name": "stderr",
     "output_type": "stream",
     "text": [
      "/var/folders/p1/4t2ts09s1pg1p6xt550h6jp80000gn/T/ipykernel_21824/1264380248.py:15: DtypeWarning: Columns (15) have mixed types. Specify dtype option on import or set low_memory=False.\n",
      "  df = pd.read_csv(file, encoding='ISO-8859-1')\n"
     ]
    },
    {
     "name": "stdout",
     "output_type": "stream",
     "text": [
      "Outliers summary saved as outliers_summary_21-11.csv\n",
      "Outliers summary saved as outliers_summary_21-12.csv\n",
      "Outliers summary saved as outliers_summary_19-12.csv\n",
      "Outliers summary saved as outliers_summary_23-12.csv\n",
      "Outliers summary saved as outliers_summary_19-11.csv\n",
      "Outliers summary saved as outliers_summary_23-11.csv\n"
     ]
    }
   ],
   "source": [
    "import pandas as pd\n",
    "import glob\n",
    "import os\n",
    "\n",
    "folder_path = '.' \n",
    "csv_files = glob.glob(os.path.join(folder_path, '*.csv'))\n",
    "\n",
    "delay_threshold = 120  # Delay more than 2hours\n",
    "\n",
    "for file in csv_files:\n",
    "    df = pd.read_csv(file, encoding='ISO-8859-1')\n",
    "    \n",
    "    # Convert FlightDate to datetime\n",
    "    df['FlightDate'] = pd.to_datetime(df['FlightDate'], errors='coerce')\n",
    "    \n",
    "    # Convert time columns to datetime format\n",
    "    df['CRSDepTime_timezone'] = pd.to_datetime(df['CRSDepTime_timezone'], errors='coerce')\n",
    "    df['DepTime_timezone'] = pd.to_datetime(df['DepTime_timezone'], errors='coerce')\n",
    "    df['CRSArrTime_timezone'] = pd.to_datetime(df['CRSArrTime_timezone'], errors='coerce')\n",
    "    df['ArrTime_timezone'] = pd.to_datetime(df['ArrTime_timezone'], errors='coerce')\n",
    "    \n",
    "    year = df['FlightDate'].dt.year.iloc[0]  \n",
    "    \n",
    "    outliers_list = []\n",
    "    \n",
    "    for index, row in df.iterrows():\n",
    "        reasons = []\n",
    "        if row.get('DepDelay', 0) > delay_threshold:\n",
    "            reasons.append('DepDelay > threshold')\n",
    "        if row.get('ArrDelay', 0) > delay_threshold:\n",
    "            reasons.append('ArrDelay > threshold')\n",
    "        if row.get('CarrierDelay', 0) > delay_threshold:\n",
    "            reasons.append('CarrierDelay > threshold')\n",
    "        if row.get('WeatherDelay', 0) > delay_threshold:\n",
    "            reasons.append('WeatherDelay > threshold')\n",
    "        if row.get('NASDelay', 0) > delay_threshold:\n",
    "            reasons.append('NASDelay > threshold')\n",
    "        \n",
    "        # Apply the 2022 Seattle-specific Alaska Airlines\n",
    "        if year == 2022:\n",
    "            if (row.get('Marketing_Airline_Network') == 'AS' or row.get('DOT_ID_Operating_Airline') == 'AS') and \\\n",
    "               (row.get('Origin') == 'SEA' or row.get('Dest') == 'SEA') and \\\n",
    "               (row.get('DepDelay', 0) > delay_threshold or row.get('ArrDelay', 0) > delay_threshold):\n",
    "                reasons.append('2022 Alaska Airlines Seattle issue')\n",
    "        \n",
    "        if reasons:\n",
    "            outliers_list.append({'ID': index, 'Reason': ', '.join(reasons)})\n",
    "\n",
    "    outliers_df = pd.DataFrame(outliers_list)\n",
    "    \n",
    "    outliers_df = outliers_df.groupby('ID', as_index=False).agg({'Reason': ', '.join}) # Merge ID together\n",
    "    \n",
    "    base_name = os.path.basename(file)\n",
    "    outlier_filename = f\"outliers_summary_{base_name}\"\n",
    "    outlier_filepath = os.path.join(folder_path, outlier_filename)\n",
    "    \n",
    "    outliers_df.to_csv(outlier_filepath, index=False)\n",
    "    print(f\"Outliers summary saved as {outlier_filename}\")\n"
   ]
  },
  {
   "cell_type": "code",
   "execution_count": null,
   "id": "3e16219b",
   "metadata": {},
   "outputs": [],
   "source": []
  }
 ],
 "metadata": {
  "kernelspec": {
   "display_name": "Python 3 (ipykernel)",
   "language": "python",
   "name": "python3"
  },
  "language_info": {
   "codemirror_mode": {
    "name": "ipython",
    "version": 3
   },
   "file_extension": ".py",
   "mimetype": "text/x-python",
   "name": "python",
   "nbconvert_exporter": "python",
   "pygments_lexer": "ipython3",
   "version": "3.11.5"
  }
 },
 "nbformat": 4,
 "nbformat_minor": 5
}
